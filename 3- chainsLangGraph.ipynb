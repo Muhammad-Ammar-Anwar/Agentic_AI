{
 "cells": [
  {
   "cell_type": "code",
   "execution_count": 3,
   "id": "baf31694",
   "metadata": {},
   "outputs": [],
   "source": [
    "from dotenv import load_dotenv\n",
    "load_dotenv()\n",
    "\n",
    "import os \n",
    "os.environ['GROQ_API_KEY']=os.getenv('GROQ_API_KEY')"
   ]
  },
  {
   "cell_type": "code",
   "execution_count": 22,
   "id": "87cc6b47",
   "metadata": {},
   "outputs": [
    {
     "name": "stdout",
     "output_type": "stream",
     "text": [
      "content='Please tell me how can I help' additional_kwargs={} response_metadata={} name='LLMModel'\n",
      "content='I want to learn coding' additional_kwargs={} response_metadata={} name='Ammar'\n",
      "content='Which programming language do you want to learn?' additional_kwargs={} response_metadata={} name='LLM model'\n",
      "content='I want to learn Python programming language' additional_kwargs={} response_metadata={} name='Ammar'\n"
     ]
    }
   ],
   "source": [
    "from langchain_core.messages import AIMessage, HumanMessage\n",
    "from pprint import pprint\n",
    "\n",
    "messages = [\n",
    "    AIMessage(content=\"Please tell me how can I help\", name=\"LLMModel\"),\n",
    "    HumanMessage(content=\"I want to learn coding\", name=\"Ammar\")\n",
    "]\n",
    "\n",
    "# Add the next AI message and the Human message correctly\n",
    "messages.append(AIMessage(content=\"Which programming language do you want to learn?\", name=\"LLM model\"))\n",
    "messages.append(HumanMessage(content=\"I want to learn Python programming language\", name=\"Ammar\"))\n",
    "\n",
    "# Now, print each message\n",
    "for message in messages:\n",
    "    print(message)\n"
   ]
  },
  {
   "cell_type": "code",
   "execution_count": 25,
   "id": "e8e09373",
   "metadata": {},
   "outputs": [
    {
     "data": {
      "text/plain": [
       "'<think>\\nAlright, the user has expressed a desire to learn Python. I should provide a comprehensive guide to help them get started. First, I\\'ll outline the steps they should follow. \\n\\nI need to start with setting up the environment. They\\'ll need Python installed and a good IDE. I\\'ll suggest a few options like PyCharm, VS Code, and Jupyter Notebook since they\\'re popular and user-friendly.\\n\\nNext, learning the basics is crucial. I\\'ll list essential topics such as syntax, variables, data types, loops, and functions. It\\'s important to mention resources where they can learn these concepts, like Codecademy, W3Schools, and GeeksforGeeks.\\n\\nAfter the basics, practice is key. I\\'ll recommend platforms like LeetCode and HackerRank where they can solve exercises and participate in coding challenges. This will help them apply what they\\'ve learned.\\n\\nBuilding small projects is a great way to apply their knowledge. Suggestions like a calculator, to-do list, or game will make learning more engaging and practical. These projects can also serve as portfolio pieces.\\n\\nExploring advanced topics should come next. Modules and libraries are important, so I\\'ll mention the standard library and popular ones like NumPy and pandas. File handling, OOP, and exception handling are also essential areas to cover.\\n\\nThere are many resources available, so I\\'ll list some good books, websites, and video courses. Books like \"Python Crash Course\" and \"Automate the Boring Stuff\" are highly recommended. For video content, Corey Schafer\\'s tutorials on YouTube are excellent.\\n\\nJoining a community can provide support and motivation. I\\'ll suggest online communities like the official Python forums, Reddit\\'s r/learnpython, and Stack Overflow. Attending meetups or joining online groups can also be beneficial.\\n\\nStaying updated with the latest trends is important, so following Python blogs and developers on social media would be helpful. Platforms like Twitter and Medium can keep them informed.\\n\\nFinally, I\\'ll encourage them to stay motivated by setting goals and celebrating their progress. It\\'s important to remind them that learning is a continuous process and to enjoy the journey.\\n\\nI should also invite them to ask more questions if they need further guidance. This makes the interaction supportive and open-ended.\\n</think>\\n\\nGreat choice! Python is an excellent programming language to learn, especially for beginners. It\\'s versatile, easy to read and write, and has a wide range of applications in web development, data analysis, machine learning, automation, and more. Here\\'s a step-by-step guide to help you get started:\\n\\n---\\n\\n### 1. **Set Up Your Environment**\\n   - **Install Python**: Download and install Python from the official Python website: [https://www.python.org/](https://www.python.org/).\\n   - **Choose a Code Editor/IDE**: You can start with a simple text editor like Notepad or use an Integrated Development Environment (IDE) like:\\n     - **PyCharm** (free community edition)\\n     - **VS Code** (Visual Studio Code)\\n     - **Jupyter Notebook** (great for data science and interactive coding)\\n   - **Familiarize Yourself with the Terminal/Command Prompt**: You\\'ll need it for running Python scripts and installing packages.\\n\\n---\\n\\n### 2. **Learn the Basics**\\n   - Start with basic syntax, variables, data types, loops, and functions. Here are some key concepts:\\n     - **Print Function**: `print(\"Hello, World!\")`\\n     - **Variables**: `x = 5`, `y = \"Hello\"`\\n     - **Data Types**: Integers, floats, strings, lists, tuples, dictionaries, sets, booleans.\\n     - **Operators**: Arithmetic (`+`, `-`, `*`, `/`), comparison (`==`, `!=`, `>`, `<`), logical (`and`, `or`, `not`).\\n     - **Control Flow**: `if-else` statements, `for` loops, `while` loops.\\n     - **Functions**: `def my_function():`\\n\\n   - **Resources for Learning Basics**:\\n     - **Codecademy**: [Learn Python 3](https://www.codecademy.com/learn/learn-python-3)\\n     - **W3Schools**: [Python Tutorial](https://www.w3schools.com/python/)\\n     - **GeeksforGeeks**: [Python Programming](https://www.geeksforgeeks.org/python-programming-examples/)\\n\\n---\\n\\n### 3. **Practice, Practice, Practice**\\n   - Start solving small problems and exercises to get comfortable with the language. Some great platforms for practice include:\\n     - **LeetCode**: [https://leetcode.com/](https://leetcode.com/)\\n     - **HackerRank**: [https://www.hackerrank.com/](https://www.hackerrank.com/)\\n     - **Codewars**: [https://www.codewars.com/](https://www.codewars.com/)\\n   - Try coding challenges or small projects like:\\n     - Calculator\\n     - To-Do List\\n     - Guessing Game\\n     - Rock, Paper, Scissors\\n\\n---\\n\\n### 4. **Build Small Projects**\\n   Once you\\'re comfortable with the basics, start building small projects to apply what you\\'ve learned. Examples include:\\n   - **Command-Line Tools**: Create scripts to automate tasks like renaming files, sorting folders, or sending emails.\\n   - **Games**: Build simple games like Tic-Tac-Toe or Snake using Python\\'s `pygame` library.\\n   - **Web Scraping**: Use libraries like `requests` and `BeautifulSoup` to extract data from websites.\\n   - **Data Analysis**: Work with CSV or Excel files using libraries like `pandas`.\\n\\n---\\n\\n### 5. **Learn Advanced Concepts**\\n   Once you\\'re comfortable with the basics, dive into more advanced topics:\\n   - **Modules and Libraries**: Learn how to import and use Python\\'s standard library as well as third-party libraries like `numpy`, `pandas`, `matplotlib`, `flask`, or `django`.\\n   - **File Handling**: Learn how to read and write files.\\n   - **Object-Oriented Programming (OOP)**: Classes, objects, inheritance, polymorphism, encapsulation.\\n   - **Exception Handling**: Learn how to handle errors and exceptions.\\n\\n---\\n\\n### 6. **Explore Resources**\\n   - **Books**:\\n     - *Python Crash Course* by Eric Matthes\\n     - *Automate the Boring Stuff with Python* by Al Sweigart\\n     - *Learning Python* by Mark Lutz\\n   - **Websites**:\\n     - [Real Python](https://realpython.com/)\\n     - [Python.org](https://docs.python.org/3/tutorial/index.html) (official Python documentation)\\n   - **Video Tutorials**:\\n     - Corey Schafer\\'s Python Tutorials on YouTube: [https://youtube.com/user/schafer5](https://youtube.com/user/schafer5)\\n     - freeCodeCamp\\'s Python Tutorials: [https://www.youtube.com/watch?v=rfscsov6lKk](https://www.youtube.com/watch?v=rfscsov6lKk)\\n\\n---\\n\\n### 7. **Join a Community**\\n   - Participate in online communities to ask questions, share your progress, and learn from others:\\n     - [Official Python Forum](https://www.python-forum.org/)\\n     - [Reddit\\'s r/learnpython](https://www.reddit.com/r/learnpython/)\\n     - [Stack Overflow](https://stackoverflow.com/questions/tagged/python)\\n\\n---\\n\\n### 8. **Stay Updated**\\n   - Follow Python blogs, YouTube channels, and developers on social media to stay updated with the latest trends and best practices.\\n\\n---\\n\\n### 9. **Keep Going and Stay Motivated**\\n   - Learning to code takes time and practice. Don\\'t get discouraged by errors or challenges—they\\'re part of the learning process.\\n   - Set small goals for yourself and celebrate your progress.\\n\\n---\\n\\n### 10. **Have Fun!**\\n   - Python is a fun language to learn and use. Enjoy the process of creating something from scratch!\\n\\n---\\n\\nIf you have any specific questions or need further guidance, feel free to ask! 😊'"
      ]
     },
     "execution_count": 25,
     "metadata": {},
     "output_type": "execute_result"
    }
   ],
   "source": [
    "from langchain_groq import ChatGroq\n",
    "\n",
    "llm=ChatGroq(model='deepseek-r1-distill-llama-70b')\n",
    "llm.invoke(messages).content"
   ]
  },
  {
   "cell_type": "code",
   "execution_count": null,
   "id": "bbdc2084",
   "metadata": {},
   "outputs": [],
   "source": []
  }
 ],
 "metadata": {
  "kernelspec": {
   "display_name": "Python 3",
   "language": "python",
   "name": "python3"
  },
  "language_info": {
   "codemirror_mode": {
    "name": "ipython",
    "version": 3
   },
   "file_extension": ".py",
   "mimetype": "text/x-python",
   "name": "python",
   "nbconvert_exporter": "python",
   "pygments_lexer": "ipython3",
   "version": "3.13.5"
  }
 },
 "nbformat": 4,
 "nbformat_minor": 5
}
