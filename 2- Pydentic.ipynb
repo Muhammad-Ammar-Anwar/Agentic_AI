{
 "cells": [
  {
   "cell_type": "code",
   "execution_count": 2,
   "id": "7593725e",
   "metadata": {},
   "outputs": [],
   "source": [
    "from langgraph.graph import StateGraph,START,END\n",
    "from pydantic import BaseModel"
   ]
  },
  {
   "cell_type": "code",
   "execution_count": null,
   "id": "09b95954",
   "metadata": {},
   "outputs": [],
   "source": [
    "# BASEMODEL has Strict rule that doesnt allow values another than string \n",
    "class State(BaseModel):\n",
    "    name:str"
   ]
  },
  {
   "cell_type": "code",
   "execution_count": 4,
   "id": "e5df8590",
   "metadata": {},
   "outputs": [],
   "source": [
    "def example_node(state:State):\n",
    "    return {\"name\":\"Ammar\"}"
   ]
  },
  {
   "cell_type": "code",
   "execution_count": 5,
   "id": "0dd891d3",
   "metadata": {},
   "outputs": [],
   "source": [
    "builder=StateGraph(State)\n",
    "builder.add_node(\"example_node\", example_node)\n",
    "\n",
    "builder.add_edge(START,\"example_node\")\n",
    "builder.add_edge(\"example_node\",END)\n",
    "\n",
    "graph=builder.compile()"
   ]
  },
  {
   "cell_type": "code",
   "execution_count": 8,
   "id": "e992a15c",
   "metadata": {},
   "outputs": [
    {
     "data": {
      "text/plain": [
       "{'name': 'Ammar'}"
      ]
     },
     "execution_count": 8,
     "metadata": {},
     "output_type": "execute_result"
    }
   ],
   "source": [
    "graph.invoke({\"name\":\"Ammar\"})"
   ]
  },
  {
   "cell_type": "code",
   "execution_count": null,
   "id": "bd177599",
   "metadata": {},
   "outputs": [],
   "source": []
  }
 ],
 "metadata": {
  "kernelspec": {
   "display_name": "Python 3",
   "language": "python",
   "name": "python3"
  },
  "language_info": {
   "codemirror_mode": {
    "name": "ipython",
    "version": 3
   },
   "file_extension": ".py",
   "mimetype": "text/x-python",
   "name": "python",
   "nbconvert_exporter": "python",
   "pygments_lexer": "ipython3",
   "version": "3.13.5"
  }
 },
 "nbformat": 4,
 "nbformat_minor": 5
}
