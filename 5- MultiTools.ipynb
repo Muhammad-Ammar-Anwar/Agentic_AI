{
 "cells": [
  {
   "cell_type": "code",
   "execution_count": 1,
   "id": "592e988d",
   "metadata": {},
   "outputs": [
    {
     "data": {
      "text/plain": [
       "True"
      ]
     },
     "execution_count": 1,
     "metadata": {},
     "output_type": "execute_result"
    }
   ],
   "source": [
    "from dotenv import load_dotenv\n",
    "import os \n",
    "\n",
    "load_dotenv()\n"
   ]
  },
  {
   "cell_type": "code",
   "execution_count": 2,
   "id": "edd38513",
   "metadata": {},
   "outputs": [],
   "source": [
    "os.environ['TAVILY_API_KEY']=os.getenv('TAVILY_API_KEY')\n",
    "os.environ['GROQ_API_KEY']=os.getenv('GROQ_API_KEY')"
   ]
  },
  {
   "cell_type": "markdown",
   "id": "55049373",
   "metadata": {},
   "source": [
    "Arxiv (Research Papers) tool"
   ]
  },
  {
   "cell_type": "code",
   "execution_count": 3,
   "id": "f3b10a36",
   "metadata": {},
   "outputs": [],
   "source": [
    "from langchain_community.tools import ArxivQueryRun,WikipediaQueryRun\n",
    "from langchain_community.utilities import WikipediaAPIWrapper,ArxivAPIWrapper"
   ]
  },
  {
   "cell_type": "code",
   "execution_count": 4,
   "id": "dabb230c",
   "metadata": {},
   "outputs": [
    {
     "name": "stdout",
     "output_type": "stream",
     "text": [
      "Published: 2023-10-05\n",
      "Title: In ChatGPT We Trust? Measuring and Characterizing the Reliability of ChatGPT\n",
      "Authors: Xinyue Shen, Zeyuan Chen, Michael Backes, Yang Zhang\n",
      "Summary: The way users acquire information is undergoing a paradigm shift with the\n",
      "advent of ChatGPT. Unlike conventional search engines, ChatGPT retrieves\n",
      "knowledge from the model itself and generates answers for users. ChatGPT's\n",
      "impressive question-answering (QA) capability has attracted more than 100\n",
      "million users within a shor\n"
     ]
    }
   ],
   "source": [
    "api_wrappper_arxiv=ArxivAPIWrapper(top_k_results=2,doc_content_chars_max=500)\n",
    "arxiv=ArxivQueryRun(api_wrapper=api_wrappper_arxiv)\n",
    "print(arxiv.run(\"chatgpt\"))"
   ]
  },
  {
   "cell_type": "code",
   "execution_count": 5,
   "id": "7913009a",
   "metadata": {},
   "outputs": [
    {
     "data": {
      "text/plain": [
       "\"Published: 2023-10-05\\nTitle: In ChatGPT We Trust? Measuring and Characterizing the Reliability of ChatGPT\\nAuthors: Xinyue Shen, Zeyuan Chen, Michael Backes, Yang Zhang\\nSummary: The way users acquire information is undergoing a paradigm shift with the\\nadvent of ChatGPT. Unlike conventional search engines, ChatGPT retrieves\\nknowledge from the model itself and generates answers for users. ChatGPT's\\nimpressive question-answering (QA) capability has attracted more than 100\\nmillion users within a shor\""
      ]
     },
     "execution_count": 5,
     "metadata": {},
     "output_type": "execute_result"
    }
   ],
   "source": [
    "arxiv.invoke(\"chatgpt\")"
   ]
  },
  {
   "cell_type": "markdown",
   "id": "3131d4ee",
   "metadata": {},
   "source": [
    "Wikipedia tool"
   ]
  },
  {
   "cell_type": "code",
   "execution_count": 6,
   "id": "2d2cea0c",
   "metadata": {},
   "outputs": [
    {
     "data": {
      "text/plain": [
       "'wikipedia'"
      ]
     },
     "execution_count": 6,
     "metadata": {},
     "output_type": "execute_result"
    }
   ],
   "source": [
    "WIKIPEDIA_API_WRAPPER=WikipediaAPIWrapper(top_k_results=2,doc_content_chars_max=500)\n",
    "wiki=WikipediaQueryRun(api_wrapper=WIKIPEDIA_API_WRAPPER)\n",
    "wiki.name"
   ]
  },
  {
   "cell_type": "code",
   "execution_count": 7,
   "id": "732e1533",
   "metadata": {},
   "outputs": [
    {
     "data": {
      "text/plain": [
       "'Page: ChatGPT\\nSummary: ChatGPT is a generative artificial intelligence chatbot developed by OpenAI and released on November 30, 2022. It currently uses GPT-5, a generative pre-trained transformer (GPT), to generate text, speech, and images in response to user prompts. It is credited with accelerating the AI boom, an ongoing period of rapid investment in and public attention to the field of artificial intelligence (AI). OpenAI operates the service on a freemium model.\\nBy January 2023, ChatGPT had'"
      ]
     },
     "execution_count": 7,
     "metadata": {},
     "output_type": "execute_result"
    }
   ],
   "source": [
    "wiki.invoke(\"what is chatgpt?\")"
   ]
  },
  {
   "cell_type": "markdown",
   "id": "a6d9c866",
   "metadata": {},
   "source": [
    "Tavily Tool"
   ]
  },
  {
   "cell_type": "code",
   "execution_count": 8,
   "id": "48eb42f2",
   "metadata": {},
   "outputs": [
    {
     "name": "stderr",
     "output_type": "stream",
     "text": [
      "/tmp/ipykernel_23855/2706930453.py:3: LangChainDeprecationWarning: The class `TavilySearchResults` was deprecated in LangChain 0.3.25 and will be removed in 1.0. An updated version of the class exists in the :class:`~langchain-tavily package and should be used instead. To use it run `pip install -U :class:`~langchain-tavily` and import as `from :class:`~langchain_tavily import TavilySearch``.\n",
      "  tavily=TavilySearchResults()\n"
     ]
    }
   ],
   "source": [
    "from langchain_community.tools.tavily_search import TavilySearchResults\n",
    "\n",
    "tavily=TavilySearchResults()\n"
   ]
  },
  {
   "cell_type": "code",
   "execution_count": 47,
   "id": "9c6db9ad",
   "metadata": {},
   "outputs": [
    {
     "data": {
      "text/plain": [
       "[{'title': 'Income Tax Ordinance - Federal Board Of Revenue Government Of ...',\n",
       "  'url': 'https://www.fbr.gov.pk/categ/income-tax-ordinance/326',\n",
       "  'content': '| 14 | Ordinance No XV of 2015 - The exemption of withholding tax under sub-section (4) of Section 236P of the Income Tax Ordinance, 2001 available to Pakistan Real-time Interbank Settlement Mechanism (PRSM) has been withdrawn |\\n| 15 | Corrections in 15 % Surcharge on Income Tax payable during the period 15th March, 2011 up to 30th June 2011. (Ordinance No IV of 2011 - issued vide No F.2(1) 12011- Pub dated 15th March 2011 | [...] | Sr.No | Title |\\n --- |\\n| 1 | Income Tax Ordinance, 2001 Amended upto 31.07.2025 |\\n| 2 | Income Tax Ordinance, 2001 Amended upto 30.06.2024 |\\n| 3 | Income Tax Ordinance, 2001 Amended upto 04.05.2024 |\\n| 4 | Income Tax Ordinance, 2001 Amended upto 30.06.2023 |\\n| 5 | Income Tax Ordinance, 2001 amended up to 30th June 2022 |\\n| 6 | Income Tax Ordinance, 2001 updated upto 30 June 2021 |\\n| 7 | Income Tax Ordinance, 2001 amended upto 30th June, 2020.pdf) | [...] | 8 | Income Tax Ordinance, 2001 amended upto 31st December, 2019 |\\n| 9 | Income Tax Ordinance, 2001 amended upto 30th June, 2019 |\\n| 10 | Income Tax Ordinance, 2001 amended upto 11th March, 2019 |\\n| 11 | Income Tax Ordinance, 2001 Amended upto 30-06-2018 |\\n| 12 | Income Tax (Amendment) Ordinance, 2018 |\\n| 13 | Tax Laws (Amendment) Ordinance, 2016 |',\n",
       "  'score': 0.9049283},\n",
       " {'title': 'WHT imposed on Prism transactions - Business Recorder',\n",
       "  'url': 'https://www.brecorder.com/news/4346935',\n",
       "  'content': 'Under the Ordinance, in section 236P, in sub-section (4), the expression \"Pakistan Real-time Interbank Settlement Mechanism (PRISM) transactions or\" shall be omitted, Ordinance added.  \\nAt present reduced rate of 0.3 percent withholding tax is applicable on banking transactions under section 236P of the Income Tax Ordinance 2001. The Board has already extended time period for applicability of 0.3 percent withholding tax on banking transactions of non-filers up to November 7, 2015. [...] To a query, Shahid Hussain Asad FBR Senior Member (Inland Revenue) Policy and designated Official Spokesperson of FBR told Business Recorder here on Sunday that the PRISM transactions at banks have now been subjected to withholding tax under section 236P of the Income Tax Ordinance 2001. These banking transactions have been subjected to withholding tax through Income Tax Amendment Ordinance 2015. [...] According to the FBR, a new section 236P was introduced in the Income Tax Ordinance, 2001 through Finance Act, 2015, requiring every banking company to deduct withholding tax from non-filers, at the time of sale of any instrument, whether against cash or otherwise, including demand draft, pay order, special deposit receipt, cash deposit receipt, short term deposit receipt, call deposit receipt, rupee traveller\\'s cheque or any other instrument of such nature; and b. at the time of transfer of',\n",
       "  'score': 0.7940821},\n",
       " {'title': 'Proposed Section 236P: banks required to collect 0.6 percent WHT ...',\n",
       "  'url': 'http://www.brecorder.com/news/4307358',\n",
       "  'content': '(2), as the case may be, exceed fifty thousand rupees in a day. (4) Advance tax under this section shall not be collected in the case of Pakistan Real-time Interbank Settlement Mechanism (PRISM) transactions or payments made for Federal, Provincial or local Government taxes.  \\nCopyright Business Recorder, 2015) [...] The proposed Section 236P to the Income Tax Ordinance, 2001 through Finance Bill (2015-16) requires a banking company to withhold tax @ 0.60 percent on the sum total of transactions exceeding Rs 50,000 per day as mentioned in the said proposed Section. According to a tax expert, the proposed section covers only non-filers on the assumption that all the bank accountholders must file their tax returns. [...] Further, the transactions mentioned in the proposed Section are all kinds including ATM, PRISM, ONLINE, INTER & INTRA BANK but the exemption of Rs 50,000 per day is for all transactions and not one. The limit should be Rs 50,000 per transaction per day, he added. Following is the text of the proposed section 236P (advance tax on banking transactions otherwise than through cash).- (1) Every banking company shall collect advance adjustable tax from a non-filer at the time of sale of any',\n",
       "  'score': 0.5709301},\n",
       " {'title': 'GOVERNMENT OF PAKISTAN - FBR',\n",
       "  'url': 'https://download1.fbr.gov.pk/Docs/201012110128435622002cir8.htm',\n",
       "  'content': 'Section 236 of the Income\\nTax Ordinance, 2001 provides that in the case of users of pre-paid telephone\\ncards and subscribers of mobile telephones, withholding tax @ 10% of the amount\\nof bill or sales price of pre-paid telephone card shall be collected. [...] 5.                     It is also clarified for\\nthe information of the tax payers that tax withheld under section 236 of the\\nIncome Tax Ordinance, 2001 in the manner indicated above is an advance tax\\nwhich is adjustable against the final tax liability.\\n\\n6.                     All withholding agents are\\nadvised to collect the tax properly and deposit the same in the Bank/Treasury\\nwithin the stipulated time.\\n\\n \\n\\n \\n\\n(Agha\\nMuhammad Shah) \\n\\nSecretary(WHT)\\n\\nTele:9201448 [...] 3.                     In the case of mobile\\nphone, withholding tax shall now be leviable @ 10% of\\nthe amount of the bill.\\n\\n4.                     In the case of PTCL land\\nlines there is no change in the old law which provides collection of\\nwithholding tax at the following rates:-\\n\\n# PTCL telephones where monthly bill:-\\n\\ni)          exceeds Rs.1,000 but does not exceed Rs.2,000.                        Rs.50',\n",
       "  'score': 0.4420348},\n",
       " {'title': 'Pakistan: Opinion on Advance Income Tax on Cash Withdrawal',\n",
       "  'url': 'https://www.reanda-international.com/news/pakistan-opinion-on-advance-income-tax-on-cash-withdrawal',\n",
       "  'content': 'However, the exemptions related to the reintroduced section have not been restored therefore in our opinion, the exemptions (omitted) related to omitted section 231A of the Ordinance cannot be extended to the section 231AB of the ordinance as the exemptions do not exist now.\\n\\nMoreover, following persons have been excluded from section 231AB through Circular No. 02 of 2023, Islamabad, 26July 2023:\\n\\nDisclaimer: [...] Clause(101AA) The provisions of sections 231A, 231AA and 236P shall not apply to a Pak Rupee Account in a tax year to the extent of foreign remittances credited into such account during that tax year.\\n\\nClause(112A) The provisions of section 231A, 231AA and 236P shall not apply to theholders of Foreign Currency Value Account (FCVA) or Non-resident PKR Account (NRPRVA) in respect of these accounts only. [...] .svg)\\n\\n.svg)\\n.svg)\\n%402x.svg)\\n\\n# Pakistan: Opinion on Advance Income Tax on Cash Withdrawal\\n\\nBackground:\\n\\nSection 231A of the Income Tax Ordinance, 2001 (the Ordinance) was omitted by the Finance Act 2021 and the exemptions related to section 231A were also omitted by the Finance Act 2021. The omitted exemptions from Part IV, Second Schedule of Income Tax Ordinance, 2001 are reproduced below:',\n",
       "  'score': 0.39075536}]"
      ]
     },
     "execution_count": 47,
     "metadata": {},
     "output_type": "execute_result"
    }
   ],
   "source": [
    "tavily.invoke('14_Ordinance_No_XV_of_2015___The_exemption_of_withholding_tax_under_sub_section__4__of_Section_236P_of_the_Income_Tax_Ordinance__2001_available_to_Pakistan_Real_time_Interbank_Settlement_Mechanism__PRSM__has_been_withdrawn.pdf')"
   ]
  },
  {
   "cell_type": "markdown",
   "id": "3a6b7b53",
   "metadata": {},
   "source": [
    "combine all the tools in list "
   ]
  },
  {
   "cell_type": "code",
   "execution_count": 10,
   "id": "ee44ba8f",
   "metadata": {},
   "outputs": [],
   "source": [
    "tools=[arxiv,wiki,tavily]"
   ]
  },
  {
   "cell_type": "code",
   "execution_count": 11,
   "id": "66b026d6",
   "metadata": {},
   "outputs": [
    {
     "data": {
      "text/plain": [
       "AIMessage(content='<think>\\n\\n</think>\\n\\nThe capital of France is Paris.', additional_kwargs={}, response_metadata={'token_usage': {'completion_tokens': 12, 'prompt_tokens': 10, 'total_tokens': 22, 'completion_time': 0.036836376, 'prompt_time': 0.017841322, 'queue_time': 0.00166445, 'total_time': 0.054677698}, 'model_name': 'deepseek-r1-distill-llama-70b', 'system_fingerprint': 'fp_76307ac09b', 'service_tier': 'on_demand', 'finish_reason': 'stop', 'logprobs': None}, id='run--2189e75a-c337-4f6c-b4b9-dd8083b9954e-0', usage_metadata={'input_tokens': 10, 'output_tokens': 12, 'total_tokens': 22})"
      ]
     },
     "execution_count": 11,
     "metadata": {},
     "output_type": "execute_result"
    }
   ],
   "source": [
    "from langchain_groq import ChatGroq\n",
    "\n",
    "llm=ChatGroq(model=\"deepseek-r1-distill-llama-70b\")\n",
    "llm.invoke(\"What is the capital of France?\")"
   ]
  },
  {
   "cell_type": "code",
   "execution_count": 15,
   "id": "c5f8c267",
   "metadata": {},
   "outputs": [
    {
     "data": {
      "text/plain": [
       "AIMessage(content='', additional_kwargs={'reasoning_content': 'Okay, the user is asking about the \"Attention is All You Need\" research paper. I remember that\\'s the one introducing the Transformer model, which is super influential in NLP.\\n\\nFirst, I should find the exact title to make sure I get the right paper. It\\'s probably on ArXiv since that\\'s where most ML papers are published.\\n\\nI\\'ll use the arxiv tool with the query \"Attention is All You Need\". This should fetch the correct paper and its details.\\n\\nOnce I have the paper, I can provide the user with a summary or key points if they need more information.\\n', 'tool_calls': [{'id': '2f1ewrs1r', 'function': {'arguments': '{\"query\":\"Attention is All You Need\"}', 'name': 'arxiv'}, 'type': 'function'}]}, response_metadata={'token_usage': {'completion_tokens': 149, 'prompt_tokens': 329, 'total_tokens': 478, 'completion_time': 0.725470177, 'prompt_time': 0.039597297, 'queue_time': 0.563031796, 'total_time': 0.765067474}, 'model_name': 'deepseek-r1-distill-llama-70b', 'system_fingerprint': 'fp_76307ac09b', 'service_tier': 'on_demand', 'finish_reason': 'tool_calls', 'logprobs': None}, id='run--a612fe56-8bbf-4299-8c64-196645729033-0', tool_calls=[{'name': 'arxiv', 'args': {'query': 'Attention is All You Need'}, 'id': '2f1ewrs1r', 'type': 'tool_call'}], usage_metadata={'input_tokens': 329, 'output_tokens': 149, 'total_tokens': 478})"
      ]
     },
     "execution_count": 15,
     "metadata": {},
     "output_type": "execute_result"
    }
   ],
   "source": [
    "llm_with_tools=llm.bind_tools(tools)\n",
    "llm_with_tools.invoke('attention is all you need research paper')"
   ]
  },
  {
   "cell_type": "code",
   "execution_count": 19,
   "id": "82d60dec",
   "metadata": {},
   "outputs": [
    {
     "data": {
      "text/plain": [
       "[{'name': 'tavily_search_results_json',\n",
       "  'args': {'query': 'recent AI news'},\n",
       "  'id': 'nzzd9xf60',\n",
       "  'type': 'tool_call'}]"
      ]
     },
     "execution_count": 19,
     "metadata": {},
     "output_type": "execute_result"
    }
   ],
   "source": [
    "from langchain_core.messages import HumanMessage,AIMessage\n",
    "\n",
    "llm_with_tools.invoke([HumanMessage(content=f'what is the recent ai news?')]).tool_calls"
   ]
  },
  {
   "cell_type": "markdown",
   "id": "2c37633e",
   "metadata": {},
   "source": [
    "Langgraph"
   ]
  },
  {
   "cell_type": "code",
   "execution_count": 21,
   "id": "adf446fa",
   "metadata": {},
   "outputs": [],
   "source": [
    "from typing_extensions import TypedDict\n",
    "from langchain_core.messages import AnyMessage\n",
    "from typing import Annotated\n",
    "from langgraph.graph.message import add_messages\n",
    "\n",
    "\n",
    "class State(TypedDict):\n",
    "    messages: Annotated[list[AnyMessage], add_messages]\n"
   ]
  },
  {
   "cell_type": "code",
   "execution_count": null,
   "id": "12ab2490",
   "metadata": {},
   "outputs": [],
   "source": [
    "from IPython.display import Image,display\n",
    "from langgraph.graph import StateGraph,START,END\n",
    "from langgraph.prebuilt import tools_condition,ToolNode\n",
    "\n",
    "\n",
    "def tool_calling_llm(state:State):\n",
    "    return {\"messages\":[llm_with_tools.invoke(state['messages'])]}\n"
   ]
  },
  {
   "cell_type": "code",
   "execution_count": 34,
   "id": "fbde0193",
   "metadata": {},
   "outputs": [],
   "source": [
    "builder=StateGraph(State)\n",
    "builder.add_node('tool_calling_llm',tool_calling_llm)\n",
    "builder.add_node(\"tools\",ToolNode(tools))\n",
    "\n",
    "builder.add_edge(START,'tool_calling_llm')\n",
    "builder.add_conditional_edges(\n",
    "    'tool_calling_llm',\n",
    "    tools_condition\n",
    ")\n",
    "builder.add_edge(\"tools\",END)\n",
    "\n",
    "graph=builder.compile()"
   ]
  },
  {
   "cell_type": "code",
   "execution_count": 35,
   "id": "cdb9d955",
   "metadata": {},
   "outputs": [
    {
     "data": {
      "image/png": "[encoded data removed]",
      "text/plain": [
       "<IPython.core.display.Image object>"
      ]
     },
     "metadata": {},
     "output_type": "display_data"
    }
   ],
   "source": [
    "display(Image(graph.get_graph().draw_mermaid_png()))"
   ]
  },
  {
   "cell_type": "code",
   "execution_count": 46,
   "id": "f79a48ac",
   "metadata": {},
   "outputs": [
    {
     "name": "stdout",
     "output_type": "stream",
     "text": [
      "================================\u001b[1m Human Message \u001b[0m=================================\n",
      "\n",
      "i want 14_Ordinance_No_XV_of_2015___The_exemption_of_withholding_tax_under_sub_section__4__of_Section_236P_of_the_Income_Tax_Ordinance__2001_available_to_Pakistan_Real_time_Interbank_Settlement_Mechanism__PRSM__has_been_withdrawn.pdf pdf websearch\n",
      "==================================\u001b[1m Ai Message \u001b[0m==================================\n",
      "Tool Calls:\n",
      "  tavily_search_results_json (3rdhqwdvt)\n",
      " Call ID: 3rdhqwdvt\n",
      "  Args:\n",
      "    query: 14_Ordinance_No_XV_of_2015___The_exemption_of_withholding_tax_under_sub-section_4_of_Section_236P_of_the_Income_Tax_Ordinance_2001_available_to_Pakistan_Real-time_Interbank_Settlement_Mechanism__PRSM__has_been_withdrawn.pdf\n",
      "=================================\u001b[1m Tool Message \u001b[0m=================================\n",
      "Name: tavily_search_results_json\n",
      "\n",
      "[{\"title\": \"WHT imposed on Prism transactions\", \"url\": \"https://www.brecorder.com/news/4346935\", \"content\": \"Under the Ordinance, in section 236P, in sub-section (4), the expression \\\"Pakistan Real-time Interbank Settlement Mechanism (PRISM) transactions or\\\" shall be omitted, Ordinance added.  \\nAt present reduced rate of 0.3 percent withholding tax is applicable on banking transactions under section 236P of the Income Tax Ordinance 2001. The Board has already extended time period for applicability of 0.3 percent withholding tax on banking transactions of non-filers up to November 7, 2015. [...] To a query, Shahid Hussain Asad FBR Senior Member (Inland Revenue) Policy and designated Official Spokesperson of FBR told Business Recorder here on Sunday that the PRISM transactions at banks have now been subjected to withholding tax under section 236P of the Income Tax Ordinance 2001. These banking transactions have been subjected to withholding tax through Income Tax Amendment Ordinance 2015. [...] According to the FBR, a new section 236P was introduced in the Income Tax Ordinance, 2001 through Finance Act, 2015, requiring every banking company to deduct withholding tax from non-filers, at the time of sale of any instrument, whether against cash or otherwise, including demand draft, pay order, special deposit receipt, cash deposit receipt, short term deposit receipt, call deposit receipt, rupee traveller's cheque or any other instrument of such nature; and b. at the time of transfer of\", \"score\": 0.7950386}, {\"title\": \"us-pakistan-income-tax-treaty.pdf\", \"url\": \"https://www.irs.gov/pub/irs-trty/us-pakistan-income-tax-treaty.pdf\", \"content\": \"an enterprise of the former State or an organization referred to in paragraph (1), solely to acquire technical, professional or business experience from a person other than such enterprise or organization, shall be exempted from tax by such other State on compensation for such period in an amount not in excess of 6,000 United States dollars ( including remuneration from such person in the other contracting State). (3) A resident of one of the contracting States temporarily present in the other [...] a corporation, association or other like entity created or organized in the United States or under the law of the United States or of any State or Territory of the United States; (h) The term \\\"resident of the United States\\\" means any individual or fiduciary who is resident in the United States for the purposes of the United States tax, and not resident in Pakistan for the purposes of the Pakistan tax, and any United States corporation or any partnership created or organized in the United States [...] of the former State shall be exempted from tax by such other State (i) on all remittances from abroad for the purposes of his maintenance, education or training, and (ii) with respect to an amount not in excess of 5,000 United States dollars for any taxable year, representing compensation for personal services. (2) A resident of one of the contracting States who is temporarily present in the other contracting State for a period not exceeding one year, as an employee of, or under contract with,\", \"score\": 0.35750076}, {\"title\": \"ra@khalidanwer.com\", \"url\": \"https://www.ibanet.org/document?id=TC-country-report-2024-Pakistan\", \"content\": \"Income exempt from federal tax in Pakistan includes agricultural income (taxed by provinces); profit from domestic \\n\\npower projects; Pakistan-source income protected by double tax treaties; income from contractors, consultants or \\n\\nexperts on local projects; and profit on debt and capital gains from government-approved debt for non-resident \\n\\nbanking companies under a sovereign agreement. [...] exemptions for certain accounts. Foreign interest received by resident individuals from foreign corporations is taxed \\n\\nsimilarly to domestic interest, with a credit available for foreign tax paid, up to the Pakistan tax payable, under \\n\\napplicable tax treaties. \\n\\nRoyalties paid to resident individuals are taxed as ordinary income. Rents paid to residents are taxed on a gross basis, [...] years of the relevant tax year. \\n\\nTreaties for avoiding double taxation apply, providing relief under the ITO, determining Pakistan-source income \\n\\nfor non-residents, and exchanging information. \\n\\nPakistan follows the convention that a tax treaty can only reduce, not increase, the tax burden, with the OECD model \\n\\ninfluencing its treaty interpretations. \\n\\nWithholding tax \\n\\nInternal withholding taxes in Pakistan involve resident companies withholding 15 per cent tax on profit on debt\", \"score\": 0.21368915}, {\"title\": \"Summary of measures announced in response to the spread of ...\", \"url\": \"https://www.pbtaxand.com/assets/uploads/files/1587960388-Taxand_-_Public_economic_measures_against_Covid-19_@_23rd_April_2020.pdf?typeKey=public\", \"content\": \"duties; however, the ATO will not defer the obligations of large withholders unless: \\n\\n• an insolvency event is imminent; \\n\\n• the taxpayer can demonstrate that it cannot access other sources of funding (e.g. loan \\n\\nfacilities, equit y contribution or the realisation of liquid assets); and \\n\\n• the granting of the deferral would result in the taxpayer remaining a going concern; \\n\\n• allowing businesses on a quarterly Goods and Services Tax (GST) reporting cycle to opt into [...] and submission deadlines, which are in existence on 16 March 2 020 or commence thereafter. Such deadlines \\n\\nhave been stopped and shall start again on 1 May 2020. \\n\\nThe extension can be further applicable to administrative cases pending before the court and to tax criminal \\n\\nproceedings. With respect to the latter, the app eal and the objection periods have been stopped. For tax \\n\\nadministrative proceedings, the period of limitation has been as well stopped. [...] Broadly, the amount of each payment is intended to approximate the amounts withheld by the entity from \\n\\nwages, salary or similar remuneration during the first perio d. All entities are entitled to a minimum of \\n\\nA$10,000 for each component regardless of how much was withheld during the relevant periods. \\n\\nHowever, each component is capped at A$50,000 – that is, a maximum cash flow assistance of \\n\\nA$100,000.\", \"score\": 0.044237062}, {\"title\": \"PUBLIC LAW 117–169—AUG. 16, 2022\", \"url\": \"https://www.congress.gov/117/plaws/publ169/PLAW-117publ169.pdf\", \"content\": \"‘‘(i) no adjustment shall be made under this para-graph for such taxable year, and ‘‘(ii) the amount of the adjustment determined under this paragraph for the succeeding taxable year (determined without regard to this paragraph) shall be reduced by an amount equal to the negative adjust-ment for such taxable year. ‘‘(4) EFFECTIVELY CONNECTED INCOME.—In the case of a foreign corporation, to determine adjusted financial statement income, the principles of section 882 shall apply. ‘‘(5) [...] this subsection) for taxable years ending after December 31, 2019. ‘‘(e) REGULATIONS AND OTHER GUIDANCE.—The Secretary shall provide for such regulations and other guidance as necessary to carry out the purposes of this section, including regulations and other guidance relating to the effect of the rules of this section on partnerships with income taken into account by an applicable corporation.’’. (2) CLERICAL AMENDMENT.—The table of sections for part VI of subchapter A of chapter 1 is amended [...] DEDUCTION FOR FINANCIAL STATEMENT NET OPERATING LOSS.— ‘‘(1) IN GENERAL.—Adjusted financial statement income (determined after application of subsection (c) and without regard to this subsection) shall be reduced by an amount equal to the lesser of— ‘‘(A) the aggregate amount of financial statement net operating loss carryovers to the taxable year, or Determinations. Regulations. Guidelines. Determination. Effective date. Definition. VerDate Sep 11 2014 13:57 Oct 25, 2022 Jkt 029139 PO 00169\", \"score\": 0.040438388}]\n"
     ]
    }
   ],
   "source": [
    "messages=graph.invoke({'messages':HumanMessage(content='i want 14_Ordinance_No_XV_of_2015___The_exemption_of_withholding_tax_under_sub_section__4__of_Section_236P_of_the_Income_Tax_Ordinance__2001_available_to_Pakistan_Real_time_Interbank_Settlement_Mechanism__PRSM__has_been_withdrawn.pdf pdf websearch')})\n",
    "for m in messages['messages']:\n",
    "    m.pretty_print()"
   ]
  },
  {
   "cell_type": "code",
   "execution_count": null,
   "id": "90cc7b46",
   "metadata": {},
   "outputs": [],
   "source": []
  }
 ],
 "metadata": {
  "kernelspec": {
   "display_name": "Python 3",
   "language": "python",
   "name": "python3"
  },
  "language_info": {
   "codemirror_mode": {
    "name": "ipython",
    "version": 3
   },
   "file_extension": ".py",
   "mimetype": "text/x-python",
   "name": "python",
   "nbconvert_exporter": "python",
   "pygments_lexer": "ipython3",
   "version": "3.13.5"
  }
 },
 "nbformat": 4,
 "nbformat_minor": 5
}
